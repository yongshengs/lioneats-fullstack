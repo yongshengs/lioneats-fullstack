{
 "cells": [
  {
   "cell_type": "code",
   "execution_count": 3,
   "metadata": {},
   "outputs": [],
   "source": [
    "# 导入所需的库\n",
    "from azure.ai.ml import MLClient\n",
    "from azure.identity import DefaultAzureCredential\n",
    "from azure.ai.ml.entities import AmlCompute, Environment, Model,  ManagedOnlineEndpoint, ManagedOnlineDeployment\n",
    "from azure.ai.ml.constants import AssetTypes"
   ]
  },
  {
   "cell_type": "code",
   "execution_count": null,
   "metadata": {},
   "outputs": [],
   "source": [
    "# 创建 Azure ML 客户端\n",
    "ml_client = MLClient(\n",
    "    DefaultAzureCredential(),\n",
    "    subscription_id=\"4384af70-f27b-4b56-923b-90b75e7d7151\",\n",
    "    resource_group_name=\"RG001\",\n",
    "    workspace_name=\"dishclassifier\"\n",
    ")"
   ]
  },
  {
   "cell_type": "code",
   "execution_count": null,
   "metadata": {},
   "outputs": [],
   "source": [
    "# # 注册数据集\n",
    "# data = Data(name=\"my_dataset\", path=\"path/to/data\")\n",
    "# ml_client.data.create_or_update(data)"
   ]
  },
  {
   "cell_type": "code",
   "execution_count": null,
   "metadata": {},
   "outputs": [],
   "source": [
    "# 定义模型路径\n",
    "model_path = \"best_model.keras\"\n",
    "model = Model(\n",
    "    path=model_path,\n",
    "    name=\"best_model\",\n",
    "    description=\"Dish Classifer\",\n",
    "    type=AssetTypes.CUSTOM_MODEL\n",
    ")"
   ]
  },
  {
   "cell_type": "code",
   "execution_count": null,
   "metadata": {},
   "outputs": [],
   "source": [
    "# 上传模型到工作区\n",
    "registered_model = ml_client.models.create_or_update(model)\n"
   ]
  },
  {
   "cell_type": "code",
   "execution_count": null,
   "metadata": {},
   "outputs": [],
   "source": [
    "# 配置环境\n",
    "env = Environment(\n",
    "    name=\"inference_env\",\n",
    "    image=\"mcr.microsoft.com/azureml/minimal-ubuntu18.04-py37-cpu-inference:latest\",\n",
    "    conda_file=\"path_to_your_conda_dependencies_file\"\n",
    ")"
   ]
  },
  {
   "cell_type": "code",
   "execution_count": null,
   "metadata": {},
   "outputs": [],
   "source": [
    "# 创建端点\n",
    "endpoint_name = \"image-classification-endpoint\"\n",
    "endpoint = ManagedOnlineEndpoint(\n",
    "    name=endpoint_name,\n",
    "    description=\"identify 10 Singaporean dishes\"\n",
    ")\n",
    "ml_client.online_endpoints.begin_create_or_update(endpoint).result()"
   ]
  },
  {
   "cell_type": "code",
   "execution_count": null,
   "metadata": {},
   "outputs": [],
   "source": [
    "# 创建并部署在线推理服务\n",
    "deployment = ManagedOnlineDeployment(\n",
    "    name=\"best-model-service13\",\n",
    "    endpoint_name=endpoint_name,\n",
    "    model=registered_model,\n",
    "    environment=env,\n",
    "    instance_type=\"Standard_DS3_v2\",\n",
    "    instance_count=1,\n",
    "    entry_script=\"score.py\"\n",
    ")\n",
    "ml_client.online_deployments.begin_create_or_update(deployment).result()\n",
    "\n",
    "print(f\"Endpoint {endpoint_name} is ready.\")"
   ]
  }
 ],
 "metadata": {
  "kernelspec": {
   "display_name": "base",
   "language": "python",
   "name": "python3"
  },
  "language_info": {
   "codemirror_mode": {
    "name": "ipython",
    "version": 3
   },
   "file_extension": ".py",
   "mimetype": "text/x-python",
   "name": "python",
   "nbconvert_exporter": "python",
   "pygments_lexer": "ipython3",
   "version": "3.12.4"
  }
 },
 "nbformat": 4,
 "nbformat_minor": 2
}
