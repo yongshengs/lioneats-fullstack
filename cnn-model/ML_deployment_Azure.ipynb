{
 "cells": [
  {
   "cell_type": "markdown",
   "metadata": {},
   "source": [
    "### ML SDK V1"
   ]
  },
  {
   "cell_type": "code",
   "execution_count": 10,
   "metadata": {},
   "outputs": [],
   "source": [
    "# pip install azureml-sdk"
   ]
  },
  {
   "cell_type": "markdown",
   "metadata": {},
   "source": [
    "### ML SDK V2"
   ]
  },
  {
   "cell_type": "code",
   "execution_count": 13,
   "metadata": {},
   "outputs": [
    {
     "name": "stdout",
     "output_type": "stream",
     "text": [
      "^C\n",
      "Note: you may need to restart the kernel to use updated packages.\n"
     ]
    },
    {
     "name": "stdout",
     "output_type": "stream",
     "text": [
      "Collecting azure-ai-ml\n",
      "  Downloading azure_ai_ml-1.18.0-py3-none-any.whl.metadata (31 kB)\n",
      "Collecting azure-identity\n",
      "  Downloading azure_identity-1.17.1-py3-none-any.whl.metadata (79 kB)\n",
      "     ---------------------------------------- 0.0/79.4 kB ? eta -:--:--\n",
      "     ------------------------------------ --- 71.7/79.4 kB 2.0 MB/s eta 0:00:01\n",
      "     ---------------------------------------- 79.4/79.4 kB 1.5 MB/s eta 0:00:00\n",
      "Requirement already satisfied: pyyaml>=5.1.0 in c:\\users\\dell\\anaconda3\\lib\\site-packages (from azure-ai-ml) (6.0.1)\n",
      "Requirement already satisfied: msrest>=0.6.18 in c:\\users\\dell\\anaconda3\\lib\\site-packages (from azure-ai-ml) (0.7.1)\n",
      "Requirement already satisfied: azure-core>=1.23.0 in c:\\users\\dell\\anaconda3\\lib\\site-packages (from azure-ai-ml) (1.30.2)\n",
      "Requirement already satisfied: azure-mgmt-core>=1.3.0 in c:\\users\\dell\\anaconda3\\lib\\site-packages (from azure-ai-ml) (1.4.0)\n",
      "Collecting marshmallow>=3.5 (from azure-ai-ml)\n",
      "  Downloading marshmallow-3.21.3-py3-none-any.whl.metadata (7.1 kB)\n",
      "Requirement already satisfied: jsonschema>=4.0.0 in c:\\users\\dell\\anaconda3\\lib\\site-packages (from azure-ai-ml) (4.19.2)\n",
      "Requirement already satisfied: tqdm in c:\\users\\dell\\anaconda3\\lib\\site-packages (from azure-ai-ml) (4.66.4)\n",
      "Collecting strictyaml (from azure-ai-ml)\n",
      "  Downloading strictyaml-1.7.3-py3-none-any.whl.metadata (11 kB)\n",
      "Requirement already satisfied: colorama in c:\\users\\dell\\anaconda3\\lib\\site-packages (from azure-ai-ml) (0.4.6)\n",
      "Requirement already satisfied: pyjwt in c:\\users\\dell\\anaconda3\\lib\\site-packages (from azure-ai-ml) (2.8.0)\n",
      "Collecting azure-storage-blob>=12.10.0 (from azure-ai-ml)\n",
      "  Downloading azure_storage_blob-12.21.0-py3-none-any.whl.metadata (26 kB)\n",
      "Collecting azure-storage-file-share (from azure-ai-ml)\n",
      "  Downloading azure_storage_file_share-12.17.0-py3-none-any.whl.metadata (47 kB)\n",
      "     ---------------------------------------- 0.0/47.4 kB ? eta -:--:--\n",
      "     ---------------------------------------- 47.4/47.4 kB 1.2 MB/s eta 0:00:00\n",
      "Collecting azure-storage-file-datalake>=12.2.0 (from azure-ai-ml)\n",
      "  Downloading azure_storage_file_datalake-12.16.0-py3-none-any.whl.metadata (15 kB)\n",
      "Collecting pydash>=6.0.0 (from azure-ai-ml)\n",
      "  Downloading pydash-8.0.3-py3-none-any.whl.metadata (4.5 kB)\n",
      "Requirement already satisfied: isodate in c:\\users\\dell\\anaconda3\\lib\\site-packages (from azure-ai-ml) (0.6.1)\n",
      "Requirement already satisfied: azure-common>=1.1 in c:\\users\\dell\\anaconda3\\lib\\site-packages (from azure-ai-ml) (1.1.28)\n",
      "Requirement already satisfied: typing-extensions in c:\\users\\dell\\anaconda3\\lib\\site-packages (from azure-ai-ml) (4.11.0)\n",
      "Collecting opencensus-ext-azure (from azure-ai-ml)\n",
      "  Downloading opencensus_ext_azure-1.1.13-py2.py3-none-any.whl.metadata (16 kB)\n",
      "Collecting opencensus-ext-logging (from azure-ai-ml)\n",
      "  Downloading opencensus_ext_logging-0.1.1-py2.py3-none-any.whl.metadata (2.3 kB)\n",
      "Requirement already satisfied: cryptography>=2.5 in c:\\users\\dell\\anaconda3\\lib\\site-packages (from azure-identity) (42.0.5)\n",
      "Requirement already satisfied: msal>=1.24.0 in c:\\users\\dell\\anaconda3\\lib\\site-packages (from azure-identity) (1.30.0)\n",
      "Requirement already satisfied: msal-extensions>=0.3.0 in c:\\users\\dell\\anaconda3\\lib\\site-packages (from azure-identity) (1.2.0)\n",
      "Requirement already satisfied: requests>=2.21.0 in c:\\users\\dell\\anaconda3\\lib\\site-packages (from azure-core>=1.23.0->azure-ai-ml) (2.32.2)\n",
      "Requirement already satisfied: six>=1.11.0 in c:\\users\\dell\\anaconda3\\lib\\site-packages (from azure-core>=1.23.0->azure-ai-ml) (1.16.0)\n",
      "Requirement already satisfied: cffi>=1.12 in c:\\users\\dell\\anaconda3\\lib\\site-packages (from cryptography>=2.5->azure-identity) (1.16.0)\n",
      "Requirement already satisfied: attrs>=22.2.0 in c:\\users\\dell\\anaconda3\\lib\\site-packages (from jsonschema>=4.0.0->azure-ai-ml) (23.1.0)\n",
      "Requirement already satisfied: jsonschema-specifications>=2023.03.6 in c:\\users\\dell\\anaconda3\\lib\\site-packages (from jsonschema>=4.0.0->azure-ai-ml) (2023.7.1)\n",
      "Requirement already satisfied: referencing>=0.28.4 in c:\\users\\dell\\anaconda3\\lib\\site-packages (from jsonschema>=4.0.0->azure-ai-ml) (0.30.2)\n",
      "Requirement already satisfied: rpds-py>=0.7.1 in c:\\users\\dell\\anaconda3\\lib\\site-packages (from jsonschema>=4.0.0->azure-ai-ml) (0.10.6)\n",
      "Requirement already satisfied: packaging>=17.0 in c:\\users\\dell\\anaconda3\\lib\\site-packages (from marshmallow>=3.5->azure-ai-ml) (23.2)\n",
      "Requirement already satisfied: portalocker<3,>=1.4 in c:\\users\\dell\\anaconda3\\lib\\site-packages (from msal-extensions>=0.3.0->azure-identity) (2.10.1)\n",
      "Requirement already satisfied: certifi>=2017.4.17 in c:\\users\\dell\\anaconda3\\lib\\site-packages (from msrest>=0.6.18->azure-ai-ml) (2024.7.4)\n",
      "Requirement already satisfied: requests-oauthlib>=0.5.0 in c:\\users\\dell\\anaconda3\\lib\\site-packages (from msrest>=0.6.18->azure-ai-ml) (2.0.0)\n",
      "Collecting opencensus<1.0.0,>=0.11.4 (from opencensus-ext-azure->azure-ai-ml)\n",
      "  Downloading opencensus-0.11.4-py2.py3-none-any.whl.metadata (12 kB)\n",
      "Requirement already satisfied: psutil>=5.6.3 in c:\\users\\dell\\anaconda3\\lib\\site-packages (from opencensus-ext-azure->azure-ai-ml) (5.9.0)\n",
      "Requirement already satisfied: python-dateutil>=2.6.0 in c:\\users\\dell\\anaconda3\\lib\\site-packages (from strictyaml->azure-ai-ml) (2.9.0.post0)\n",
      "Requirement already satisfied: pycparser in c:\\users\\dell\\anaconda3\\lib\\site-packages (from cffi>=1.12->cryptography>=2.5->azure-identity) (2.21)\n",
      "Collecting opencensus-context>=0.1.3 (from opencensus<1.0.0,>=0.11.4->opencensus-ext-azure->azure-ai-ml)\n",
      "  Downloading opencensus_context-0.1.3-py2.py3-none-any.whl.metadata (3.3 kB)\n",
      "Collecting google-api-core<3.0.0,>=1.0.0 (from opencensus<1.0.0,>=0.11.4->opencensus-ext-azure->azure-ai-ml)\n",
      "  Downloading google_api_core-2.19.1-py3-none-any.whl.metadata (2.7 kB)\n",
      "Requirement already satisfied: pywin32>=226 in c:\\users\\dell\\anaconda3\\lib\\site-packages (from portalocker<3,>=1.4->msal-extensions>=0.3.0->azure-identity) (305.1)\n",
      "Requirement already satisfied: charset-normalizer<4,>=2 in c:\\users\\dell\\anaconda3\\lib\\site-packages (from requests>=2.21.0->azure-core>=1.23.0->azure-ai-ml) (2.0.4)\n",
      "Requirement already satisfied: idna<4,>=2.5 in c:\\users\\dell\\anaconda3\\lib\\site-packages (from requests>=2.21.0->azure-core>=1.23.0->azure-ai-ml) (3.7)\n",
      "Requirement already satisfied: urllib3<3,>=1.21.1 in c:\\users\\dell\\anaconda3\\lib\\site-packages (from requests>=2.21.0->azure-core>=1.23.0->azure-ai-ml) (2.2.2)\n",
      "Requirement already satisfied: oauthlib>=3.0.0 in c:\\users\\dell\\anaconda3\\lib\\site-packages (from requests-oauthlib>=0.5.0->msrest>=0.6.18->azure-ai-ml) (3.2.2)\n",
      "Collecting googleapis-common-protos<2.0.dev0,>=1.56.2 (from google-api-core<3.0.0,>=1.0.0->opencensus<1.0.0,>=0.11.4->opencensus-ext-azure->azure-ai-ml)\n",
      "  Downloading googleapis_common_protos-1.63.2-py2.py3-none-any.whl.metadata (1.5 kB)\n",
      "Requirement already satisfied: protobuf!=3.20.0,!=3.20.1,!=4.21.0,!=4.21.1,!=4.21.2,!=4.21.3,!=4.21.4,!=4.21.5,<6.0.0.dev0,>=3.19.5 in c:\\users\\dell\\anaconda3\\lib\\site-packages (from google-api-core<3.0.0,>=1.0.0->opencensus<1.0.0,>=0.11.4->opencensus-ext-azure->azure-ai-ml) (3.20.3)\n",
      "Collecting proto-plus<2.0.0dev,>=1.22.3 (from google-api-core<3.0.0,>=1.0.0->opencensus<1.0.0,>=0.11.4->opencensus-ext-azure->azure-ai-ml)\n",
      "  Downloading proto_plus-1.24.0-py3-none-any.whl.metadata (2.2 kB)\n",
      "Collecting google-auth<3.0.dev0,>=2.14.1 (from google-api-core<3.0.0,>=1.0.0->opencensus<1.0.0,>=0.11.4->opencensus-ext-azure->azure-ai-ml)\n",
      "  Downloading google_auth-2.32.0-py2.py3-none-any.whl.metadata (4.7 kB)\n",
      "Requirement already satisfied: cachetools<6.0,>=2.0.0 in c:\\users\\dell\\anaconda3\\lib\\site-packages (from google-auth<3.0.dev0,>=2.14.1->google-api-core<3.0.0,>=1.0.0->opencensus<1.0.0,>=0.11.4->opencensus-ext-azure->azure-ai-ml) (5.3.3)\n",
      "Requirement already satisfied: pyasn1-modules>=0.2.1 in c:\\users\\dell\\anaconda3\\lib\\site-packages (from google-auth<3.0.dev0,>=2.14.1->google-api-core<3.0.0,>=1.0.0->opencensus<1.0.0,>=0.11.4->opencensus-ext-azure->azure-ai-ml) (0.2.8)\n",
      "Collecting rsa<5,>=3.1.4 (from google-auth<3.0.dev0,>=2.14.1->google-api-core<3.0.0,>=1.0.0->opencensus<1.0.0,>=0.11.4->opencensus-ext-azure->azure-ai-ml)\n",
      "  Downloading rsa-4.9-py3-none-any.whl.metadata (4.2 kB)\n",
      "Requirement already satisfied: pyasn1<0.5.0,>=0.4.6 in c:\\users\\dell\\anaconda3\\lib\\site-packages (from pyasn1-modules>=0.2.1->google-auth<3.0.dev0,>=2.14.1->google-api-core<3.0.0,>=1.0.0->opencensus<1.0.0,>=0.11.4->opencensus-ext-azure->azure-ai-ml) (0.4.8)\n",
      "Downloading azure_ai_ml-1.18.0-py3-none-any.whl (10.5 MB)\n",
      "   ---------------------------------------- 0.0/10.5 MB ? eta -:--:--\n",
      "    --------------------------------------- 0.1/10.5 MB 4.3 MB/s eta 0:00:03\n",
      "   - -------------------------------------- 0.3/10.5 MB 3.8 MB/s eta 0:00:03\n",
      "   - -------------------------------------- 0.4/10.5 MB 3.4 MB/s eta 0:00:03\n",
      "   - -------------------------------------- 0.5/10.5 MB 3.5 MB/s eta 0:00:03\n",
      "   -- ------------------------------------- 0.7/10.5 MB 2.9 MB/s eta 0:00:04\n",
      "   --- ------------------------------------ 0.9/10.5 MB 3.3 MB/s eta 0:00:03\n",
      "   ---- ----------------------------------- 1.1/10.5 MB 3.5 MB/s eta 0:00:03\n",
      "   ---- ----------------------------------- 1.3/10.5 MB 3.6 MB/s eta 0:00:03\n",
      "   ----- ---------------------------------- 1.4/10.5 MB 3.3 MB/s eta 0:00:03\n",
      "   ----- ---------------------------------- 1.5/10.5 MB 3.0 MB/s eta 0:00:03\n",
      "   ----- ---------------------------------- 1.5/10.5 MB 3.0 MB/s eta 0:00:03\n",
      "   ------ --------------------------------- 1.6/10.5 MB 2.7 MB/s eta 0:00:04\n",
      "   ------ --------------------------------- 1.6/10.5 MB 2.7 MB/s eta 0:00:04\n",
      "   ------ --------------------------------- 1.6/10.5 MB 2.7 MB/s eta 0:00:04\n",
      "   ------ --------------------------------- 1.6/10.5 MB 2.7 MB/s eta 0:00:04\n",
      "   ------ --------------------------------- 1.7/10.5 MB 2.1 MB/s eta 0:00:05\n",
      "   ------- -------------------------------- 1.9/10.5 MB 2.2 MB/s eta 0:00:04\n",
      "   -------- ------------------------------- 2.1/10.5 MB 2.4 MB/s eta 0:00:04\n",
      "   --------- ------------------------------ 2.4/10.5 MB 2.5 MB/s eta 0:00:04\n",
      "   ---------- ----------------------------- 2.7/10.5 MB 2.7 MB/s eta 0:00:03\n",
      "   ----------- ---------------------------- 3.0/10.5 MB 2.9 MB/s eta 0:00:03\n",
      "   ------------ --------------------------- 3.4/10.5 MB 3.2 MB/s eta 0:00:03\n",
      "   ------------ --------------------------- 3.4/10.5 MB 3.2 MB/s eta 0:00:03\n",
      "   ------------- -------------------------- 3.4/10.5 MB 3.1 MB/s eta 0:00:03\n",
      "   ------------- -------------------------- 3.6/10.5 MB 3.0 MB/s eta 0:00:03\n",
      "   -------------- ------------------------- 3.8/10.5 MB 3.1 MB/s eta 0:00:03\n",
      "   --------------- ------------------------ 4.0/10.5 MB 3.2 MB/s eta 0:00:03\n",
      "   ---------------- ----------------------- 4.4/10.5 MB 3.3 MB/s eta 0:00:02\n",
      "   ----------------- ---------------------- 4.6/10.5 MB 3.4 MB/s eta 0:00:02\n",
      "   ------------------ --------------------- 4.8/10.5 MB 3.5 MB/s eta 0:00:02\n",
      "   ------------------ --------------------- 5.0/10.5 MB 3.5 MB/s eta 0:00:02\n",
      "   -------------------- ------------------- 5.3/10.5 MB 3.6 MB/s eta 0:00:02\n",
      "   -------------------- ------------------- 5.3/10.5 MB 3.5 MB/s eta 0:00:02\n",
      "   -------------------- ------------------- 5.3/10.5 MB 3.4 MB/s eta 0:00:02\n",
      "   -------------------- ------------------- 5.5/10.5 MB 3.4 MB/s eta 0:00:02\n",
      "   ---------------------- ----------------- 5.8/10.5 MB 3.5 MB/s eta 0:00:02\n",
      "   ----------------------- ---------------- 6.1/10.5 MB 3.6 MB/s eta 0:00:02\n",
      "   ----------------------- ---------------- 6.2/10.5 MB 3.6 MB/s eta 0:00:02\n",
      "   ------------------------ --------------- 6.5/10.5 MB 3.6 MB/s eta 0:00:02\n",
      "   ------------------------- -------------- 6.8/10.5 MB 3.7 MB/s eta 0:00:01\n",
      "   -------------------------- ------------- 7.0/10.5 MB 3.7 MB/s eta 0:00:01\n",
      "   ---------------------------- ----------- 7.4/10.5 MB 3.8 MB/s eta 0:00:01\n",
      "   ---------------------------- ----------- 7.6/10.5 MB 3.8 MB/s eta 0:00:01\n",
      "   ----------------------------- ---------- 7.9/10.5 MB 3.9 MB/s eta 0:00:01\n",
      "   ------------------------------ --------- 8.1/10.5 MB 3.9 MB/s eta 0:00:01\n",
      "   ------------------------------- -------- 8.3/10.5 MB 3.9 MB/s eta 0:00:01\n",
      "   --------------------------------- ------ 8.8/10.5 MB 4.1 MB/s eta 0:00:01\n",
      "   ---------------------------------- ----- 9.0/10.5 MB 4.1 MB/s eta 0:00:01\n",
      "   ----------------------------------- ---- 9.4/10.5 MB 4.2 MB/s eta 0:00:01\n",
      "   ------------------------------------- -- 9.8/10.5 MB 4.2 MB/s eta 0:00:01\n",
      "   -------------------------------------- - 10.1/10.5 MB 4.3 MB/s eta 0:00:01\n",
      "   -------------------------------------- - 10.2/10.5 MB 4.3 MB/s eta 0:00:01\n",
      "   ---------------------------------------  10.4/10.5 MB 4.3 MB/s eta 0:00:01\n",
      "   ---------------------------------------  10.5/10.5 MB 4.3 MB/s eta 0:00:01\n",
      "   ---------------------------------------  10.5/10.5 MB 4.3 MB/s eta 0:00:01\n",
      "   ---------------------------------------- 10.5/10.5 MB 4.1 MB/s eta 0:00:00\n",
      "Downloading azure_identity-1.17.1-py3-none-any.whl (173 kB)\n",
      "   ---------------------------------------- 0.0/173.2 kB ? eta -:--:--\n",
      "   ------------------------------------- -- 163.8/173.2 kB 9.6 MB/s eta 0:00:01\n",
      "   ---------------------------------------- 173.2/173.2 kB 5.1 MB/s eta 0:00:00\n",
      "Downloading azure_storage_blob-12.21.0-py3-none-any.whl (396 kB)\n",
      "   ---------------------------------------- 0.0/396.4 kB ? eta -:--:--\n",
      "   --------------------------------------  389.1/396.4 kB 12.2 MB/s eta 0:00:01\n",
      "   ---------------------------------------- 396.4/396.4 kB 8.2 MB/s eta 0:00:00\n",
      "Downloading azure_storage_file_datalake-12.16.0-py3-none-any.whl (255 kB)\n",
      "   ---------------------------------------- 0.0/255.6 kB ? eta -:--:--\n",
      "   -------------- ------------------------- 92.2/255.6 kB ? eta -:--:--\n",
      "   ---------------------------------------- 255.6/255.6 kB 3.1 MB/s eta 0:00:00\n",
      "Downloading marshmallow-3.21.3-py3-none-any.whl (49 kB)\n",
      "   ---------------------------------------- 0.0/49.2 kB ? eta -:--:--\n",
      "   ---------------------------------------- 49.2/49.2 kB 1.2 MB/s eta 0:00:00\n",
      "Downloading pydash-8.0.3-py3-none-any.whl (101 kB)\n",
      "   ---------------------------------------- 0.0/101.9 kB ? eta -:--:--\n",
      "   ---------------------------------------- 101.9/101.9 kB 3.0 MB/s eta 0:00:00\n",
      "Downloading azure_storage_file_share-12.17.0-py3-none-any.whl (270 kB)\n",
      "   ---------------------------------------- 0.0/270.7 kB ? eta -:--:--\n",
      "   ---------------------------------------  266.2/270.7 kB 8.3 MB/s eta 0:00:01\n",
      "   ---------------------------------------- 270.7/270.7 kB 5.5 MB/s eta 0:00:00\n",
      "Downloading opencensus_ext_azure-1.1.13-py2.py3-none-any.whl (43 kB)\n",
      "   ---------------------------------------- 0.0/43.4 kB ? eta -:--:--\n",
      "   ---------------------------------------- 43.4/43.4 kB 1.1 MB/s eta 0:00:00\n",
      "Downloading opencensus_ext_logging-0.1.1-py2.py3-none-any.whl (4.0 kB)\n",
      "Downloading strictyaml-1.7.3-py3-none-any.whl (123 kB)\n",
      "   ---------------------------------------- 0.0/123.9 kB ? eta -:--:--\n",
      "   ---------------------------------------- 123.9/123.9 kB 3.6 MB/s eta 0:00:00\n",
      "Downloading opencensus-0.11.4-py2.py3-none-any.whl (128 kB)\n",
      "   ---------------------------------------- 0.0/128.2 kB ? eta -:--:--\n",
      "   ---------------------------------------- 128.2/128.2 kB 7.9 MB/s eta 0:00:00\n",
      "Downloading google_api_core-2.19.1-py3-none-any.whl (139 kB)\n",
      "   ---------------------------------------- 0.0/139.4 kB ? eta -:--:--\n",
      "   ---------------------------------------- 139.4/139.4 kB 4.2 MB/s eta 0:00:00\n",
      "Downloading opencensus_context-0.1.3-py2.py3-none-any.whl (5.1 kB)\n",
      "Downloading google_auth-2.32.0-py2.py3-none-any.whl (195 kB)\n",
      "   ---------------------------------------- 0.0/195.5 kB ? eta -:--:--\n",
      "   ---------------------------------------- 195.5/195.5 kB 6.0 MB/s eta 0:00:00\n",
      "Downloading googleapis_common_protos-1.63.2-py2.py3-none-any.whl (220 kB)\n",
      "   ---------------------------------------- 0.0/220.0 kB ? eta -:--:--\n",
      "   ---------------------------------------- 220.0/220.0 kB 6.8 MB/s eta 0:00:00\n",
      "Downloading proto_plus-1.24.0-py3-none-any.whl (50 kB)\n",
      "   ---------------------------------------- 0.0/50.1 kB ? eta -:--:--\n",
      "   ---------------------------------------- 50.1/50.1 kB 2.7 MB/s eta 0:00:00\n",
      "Downloading rsa-4.9-py3-none-any.whl (34 kB)\n",
      "Installing collected packages: opencensus-context, rsa, pydash, proto-plus, marshmallow, googleapis-common-protos, strictyaml, google-auth, google-api-core, azure-storage-file-share, azure-storage-blob, opencensus, azure-storage-file-datalake, opencensus-ext-logging, azure-identity, opencensus-ext-azure, azure-ai-ml\n",
      "Successfully installed azure-ai-ml-1.18.0 azure-identity-1.17.1 azure-storage-blob-12.21.0 azure-storage-file-datalake-12.16.0 azure-storage-file-share-12.17.0 google-api-core-2.19.1 google-auth-2.32.0 googleapis-common-protos-1.63.2 marshmallow-3.21.3 opencensus-0.11.4 opencensus-context-0.1.3 opencensus-ext-azure-1.1.13 opencensus-ext-logging-0.1.1 proto-plus-1.24.0 pydash-8.0.3 rsa-4.9 strictyaml-1.7.3\n"
     ]
    }
   ],
   "source": [
    "#pip install azure-ai-ml azure-identity"
   ]
  },
  {
   "cell_type": "markdown",
   "metadata": {},
   "source": [
    "###  Import Dependencies\n"
   ]
  },
  {
   "cell_type": "code",
   "execution_count": 1,
   "metadata": {},
   "outputs": [
    {
     "name": "stderr",
     "output_type": "stream",
     "text": [
      "c:\\Users\\DELL\\anaconda3\\Lib\\site-packages\\paramiko\\transport.py:219: CryptographyDeprecationWarning: Blowfish has been deprecated and will be removed in a future release\n",
      "  \"class\": algorithms.Blowfish,\n"
     ]
    },
    {
     "ename": "ImportError",
     "evalue": "cannot import name 'InferenceConfig' from 'azureml.core.model' (c:\\Users\\DELL\\anaconda3\\Lib\\site-packages\\azureml\\core\\model.py)",
     "output_type": "error",
     "traceback": [
      "\u001b[1;31m---------------------------------------------------------------------------\u001b[0m",
      "\u001b[1;31mImportError\u001b[0m                               Traceback (most recent call last)",
      "Cell \u001b[1;32mIn[1], line 11\u001b[0m\n\u001b[0;32m      9\u001b[0m \u001b[38;5;28;01mfrom\u001b[39;00m \u001b[38;5;21;01mazureml\u001b[39;00m\u001b[38;5;21;01m.\u001b[39;00m\u001b[38;5;21;01mcore\u001b[39;00m\u001b[38;5;21;01m.\u001b[39;00m\u001b[38;5;21;01menvironment\u001b[39;00m \u001b[38;5;28;01mimport\u001b[39;00m Environment\n\u001b[0;32m     10\u001b[0m \u001b[38;5;28;01mfrom\u001b[39;00m \u001b[38;5;21;01mazureml\u001b[39;00m\u001b[38;5;21;01m.\u001b[39;00m\u001b[38;5;21;01mcore\u001b[39;00m\u001b[38;5;21;01m.\u001b[39;00m\u001b[38;5;21;01mconda_dependencies\u001b[39;00m \u001b[38;5;28;01mimport\u001b[39;00m CondaDependencies\n\u001b[1;32m---> 11\u001b[0m \u001b[38;5;28;01mfrom\u001b[39;00m \u001b[38;5;21;01mazureml\u001b[39;00m\u001b[38;5;21;01m.\u001b[39;00m\u001b[38;5;21;01mcore\u001b[39;00m\u001b[38;5;21;01m.\u001b[39;00m\u001b[38;5;21;01mmodel\u001b[39;00m \u001b[38;5;28;01mimport\u001b[39;00m InferenceConfig\n\u001b[0;32m     12\u001b[0m \u001b[38;5;28;01mfrom\u001b[39;00m \u001b[38;5;21;01mazureml\u001b[39;00m\u001b[38;5;21;01m.\u001b[39;00m\u001b[38;5;21;01mcore\u001b[39;00m\u001b[38;5;21;01m.\u001b[39;00m\u001b[38;5;21;01mwebservice\u001b[39;00m \u001b[38;5;28;01mimport\u001b[39;00m AciWebservice, Webservice\n",
      "\u001b[1;31mImportError\u001b[0m: cannot import name 'InferenceConfig' from 'azureml.core.model' (c:\\Users\\DELL\\anaconda3\\Lib\\site-packages\\azureml\\core\\model.py)"
     ]
    }
   ],
   "source": [
    "import os\n",
    "import json\n",
    "import requests\n",
    "# from azure.ai.ml import MLClient\n",
    "# from azure.ai.ml.data import Data\n",
    "# from azure.identity import DefaultAzureCredential\n",
    "from azureml.core import Workspace\n",
    "from azureml.core.model import Model\n",
    "from azureml.core.environment import Environment\n",
    "from azureml.core.conda_dependencies import CondaDependencies\n",
    "from azureml.core.model import InferenceConfig\n",
    "from azureml.core.webservice import AciWebservice, Webservice\n"
   ]
  },
  {
   "cell_type": "code",
   "execution_count": 24,
   "metadata": {},
   "outputs": [
    {
     "name": "stdout",
     "output_type": "stream",
     "text": [
      "Workspace loaded successfully.\n"
     ]
    }
   ],
   "source": [
    "# Load the workspace from the saved config file\n",
    "ws = Workspace.from_config(path=\"./config.json\")\n",
    "print(\"Workspace loaded successfully.\")"
   ]
  },
  {
   "cell_type": "code",
   "execution_count": 4,
   "metadata": {},
   "outputs": [
    {
     "name": "stdout",
     "output_type": "stream",
     "text": [
      "Registering model best_model\n",
      "Model registered successfully.\n"
     ]
    }
   ],
   "source": [
    "#register model\n",
    "model = Model.register(workspace=ws,\n",
    "                       model_path=\"best_model.keras\",  # 你的模型路径\n",
    "                       model_name=\"best_model\")  # 模型名称\n",
    "print(\"Model registered successfully.\")"
   ]
  },
  {
   "cell_type": "code",
   "execution_count": 9,
   "metadata": {},
   "outputs": [
    {
     "name": "stdout",
     "output_type": "stream",
     "text": [
      "Inference environment created successfully.\n"
     ]
    }
   ],
   "source": [
    "#create new inference env\n",
    "env = Environment(name=\"inference_env\")\n",
    "\n",
    "# add dependency\n",
    "cd = CondaDependencies.create(pip_packages=[\"azureml-defaults\", \"tensorflow\",\"pillow\",\"requests\"])\n",
    "\n",
    "env.python.conda_dependencies = cd\n",
    "env.register(workspace=ws)\n",
    "print(\"Inference environment created successfully.\")"
   ]
  },
  {
   "cell_type": "code",
   "execution_count": 10,
   "metadata": {},
   "outputs": [],
   "source": [
    "#create inference configration\n",
    "inference_config = InferenceConfig(entry_script=\"score.py\", environment=env)"
   ]
  },
  {
   "cell_type": "code",
   "execution_count": 1,
   "metadata": {},
   "outputs": [
    {
     "ename": "NameError",
     "evalue": "name 'AciWebservice' is not defined",
     "output_type": "error",
     "traceback": [
      "\u001b[1;31m---------------------------------------------------------------------------\u001b[0m",
      "\u001b[1;31mNameError\u001b[0m                                 Traceback (most recent call last)",
      "Cell \u001b[1;32mIn[1], line 2\u001b[0m\n\u001b[0;32m      1\u001b[0m \u001b[38;5;66;03m# 设置 ACI 配置\u001b[39;00m\n\u001b[1;32m----> 2\u001b[0m aci_config \u001b[38;5;241m=\u001b[39m AciWebservice\u001b[38;5;241m.\u001b[39mdeploy_configuration(cpu_cores\u001b[38;5;241m=\u001b[39m\u001b[38;5;241m1\u001b[39m, memory_gb\u001b[38;5;241m=\u001b[39m\u001b[38;5;241m1\u001b[39m)\n\u001b[0;32m      4\u001b[0m \u001b[38;5;66;03m# 部署模型\u001b[39;00m\n\u001b[0;32m      5\u001b[0m service \u001b[38;5;241m=\u001b[39m Model\u001b[38;5;241m.\u001b[39mdeploy(workspace\u001b[38;5;241m=\u001b[39mws,\n\u001b[0;32m      6\u001b[0m                        name\u001b[38;5;241m=\u001b[39m\u001b[38;5;124m\"\u001b[39m\u001b[38;5;124mbest-model-service-12\u001b[39m\u001b[38;5;124m\"\u001b[39m,\n\u001b[0;32m      7\u001b[0m                        models\u001b[38;5;241m=\u001b[39m[model],\n\u001b[0;32m      8\u001b[0m                        inference_config\u001b[38;5;241m=\u001b[39minference_config,\n\u001b[0;32m      9\u001b[0m                        deployment_config\u001b[38;5;241m=\u001b[39maci_config)\n",
      "\u001b[1;31mNameError\u001b[0m: name 'AciWebservice' is not defined"
     ]
    }
   ],
   "source": [
    "# 设置 ACI 配置\n",
    "aci_config = AciWebservice.deploy_configuration(cpu_cores=1, memory_gb=1)\n",
    "\n",
    "# 部署模型\n",
    "service = Model.deploy(workspace=ws,\n",
    "                       name=\"best-model-service-12\",\n",
    "                       models=[model],\n",
    "                       inference_config=inference_config,\n",
    "                       deployment_config=aci_config)\n",
    "\n",
    "service.wait_for_deployment(show_output=True)\n",
    "print(\"Model deployed successfully at\", service.scoring_uri)"
   ]
  }
 ],
 "metadata": {
  "kernelspec": {
   "display_name": "base",
   "language": "python",
   "name": "python3"
  },
  "language_info": {
   "codemirror_mode": {
    "name": "ipython",
    "version": 3
   },
   "file_extension": ".py",
   "mimetype": "text/x-python",
   "name": "python",
   "nbconvert_exporter": "python",
   "pygments_lexer": "ipython3",
   "version": "3.12.4"
  }
 },
 "nbformat": 4,
 "nbformat_minor": 2
}
